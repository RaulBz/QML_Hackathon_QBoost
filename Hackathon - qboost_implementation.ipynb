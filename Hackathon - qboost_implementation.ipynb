{
 "cells": [
  {
   "cell_type": "markdown",
   "metadata": {},
   "source": [
    "# Qboost: Binary Classification with Quantum Computer\n",
    "\n",
    "The D-Wave quantum computer has been widely studied as a discrete optimization engine that accepts any problem formulated as quadratic unconstrained  binary  optimization  (QUBO). In 2008, Google and D-Wave published a paper, [Training a Binary Classifier with the Quantum Adiabatic Algorithm](https://arxiv.org/pdf/0811.0416.pdf), which describes how the `Qboost` ensemble method makes binary classification amenable to quantum computing: the problem is formulated as a thresholded linear superposition of a set of weak classifiers and the D-Wave quantum computer is  used to optimize the weights in a learning process that strives to minimize the training error and number of weak classifiers.\n",
    "\n",
    "This notebook demonstrates and explains how the Qboost algorithm can be used to solve a binary classification problem. "
   ]
  },
  {
   "cell_type": "markdown",
   "metadata": {},
   "source": [
    "## A Few Words on Ensemble Methods\n",
    "\n",
    "Ensemble methods build a strong classifier (an improved model) by combining weak classifiers with the goal of:\n",
    "\n",
    "* decreasing variance (bagging)\n",
    "* decreasing bias (boosting)\n",
    "* improving prediction (voting)\n",
    "\n",
    "![Boosting Algorithm](images/boosting.jpg)\n",
    "\n",
    "### Bagging, Boosting, and Voting\n",
    "\n",
    "The ensemble method produces new training data sets by random sampling with replacement from the original set. In _bagging_, any element has the same probability to appear in a new dataset; in _boosting_, data elements are weighted before they are collected in the new dataset. Another distinction is that bagging is parallelizable but boosting has to be executed sequentially. You can learn more about the differences between these methods here: https://quantdare.com/what-is-the-difference-between-bagging-and-boosting/.\n",
    "\n",
    "Voting operates on labels only. Unlike boosting, the aggeragated classification performance is not used to further polish each weak classifier. Voting has two typical requirements of its collection of  weak classifiers: that there be __many__ and that they be __diverse__.  "
   ]
  },
  {
   "cell_type": "markdown",
   "metadata": {},
   "source": [
    "## Weak and Strong Classifiers\n",
    "For this reference example we chose the following four classifiers:\n",
    "    1. Adaboost\n",
    "    2. Decision Trees\n",
    "    3. Random Forest\n",
    "    4. Qboost\n",
    "Note that you can replace any of these with any commonly used classification model. Also, an ensemble method can use a strong classifier instead of a weak one, and in this example we embed the Qboost classifier itself, __QboostPlus__ in the following code, with the first three.  \n",
    "\n",
    "### Adaboost\n",
    "Adaboost combines a number of $N$ weak classifiers into a strong one as\n",
    "$$C(x) = sign\\left(\\sum_i^N w_i c_i(x)\\right),$$\n",
    "with $c_i(x) \\in [-1, +1]$ being the $i$-th weak classifier:\n",
    "\n",
    "$$c_i(x) = sign(w'*x + b)$$\n",
    "\n",
    "The loss function of Adaboost is defined as\n",
    "$$\n",
    "L = \\sum_{n=1}^N \\exp\\left\\{ - y_n \\sum_{s=1}^S w_sc_k(x_n)\\right\\}.\n",
    "$$\n",
    "\n",
    "The strong classifier $C(\\cdot)$ is constructed in an iterative fashion. In each iteration, one weak classifier\n",
    "is selected and re-learned to minimize the weighted error function. Its weight is adjusted and renormalized to make sure the sum of all weights equals 1. \n",
    "\n",
    "The final classification model will be decided by a weighted “vote” of all the weak classifiers. \n",
    "\n",
    "### Decision Trees\n",
    "A decision tree builds on a tree structure with non-leaf nodes encoding decision rules and leaf nodes encoding labels. You construct a decision tree by optimizing either entropic or information-theoretic metrics. Controlling the depth of a decision tree indirectly decides the sub-dimension of the dataset. \n",
    "\n",
    "Decision trees are often chosen as the weak classifiers in Adaboost because they are both simple to construct and fast to do inference. The `scikit-learn` package implements its Adaboost method with decision trees of depth 1, also known as _tree stumps_. This reference examples demonstrates an alternative implementation of boosting with a number of deeper decision trees.\n",
    "### Random Forest \n",
    "Random forest is an ensemble method that typically implements bagging on a set of decision trees. By introducing randomness in the selection of an optimized feature in the training of the underlying decision trees, the ensemble diversifies the weightings of its collection of weak classifiers, generally resulting in an improved model.    \n",
    "\n",
    "### Qboost\n",
    "To make use of the optimization power of D-Wave quantum annealer, we needs to formulate our objective function as a quadratic unconstrained binary optimization (QUBO) problem. Therefore, we replace the exponential loss as in Adaboost with the following quadratic loss\n",
    "$$\n",
    "w* = \\arg\\min_w\\left(\\sum_s \\left(\\frac{1}{N}\\sum_n^N w_nc_n(x_s) - y_s\\right)^2\\right) + \\lambda ||w||_0,\n",
    "$$\n",
    "where the regularization term is added to enable controlling of weight sparsity.\n",
    "\n",
    "Note in Qboost, the weight vector is binary.\n",
    "\n"
   ]
  },
  {
   "cell_type": "markdown",
   "metadata": {},
   "source": [
    "## Training and Comparing Performance\n",
    "Now we define functions used in the following experiemnts to train our selected classifiers and provide metrics for comparing performance.\n",
    "\n",
    "First, copy your API token."
   ]
  },
  {
   "cell_type": "code",
   "execution_count": 3,
   "metadata": {
    "collapsed": true
   },
   "outputs": [],
   "source": [
    "% matplotlib inline\n",
    "\n",
    "import matplotlib.pyplot as plt\n",
    "\n",
    "import os\n",
    "\n",
    "import pandas as pd\n",
    "import numpy as np\n",
    "import seaborn as sns"
   ]
  },
  {
   "cell_type": "code",
   "execution_count": 4,
   "metadata": {},
   "outputs": [],
   "source": [
    "test = pd.read_csv('./data/test.csv')\n",
    "test_id = test.id\n",
    "train = pd.read_csv('./data/train.csv')"
   ]
  },
  {
   "cell_type": "code",
   "execution_count": 5,
   "metadata": {
    "collapsed": true
   },
   "outputs": [],
   "source": [
    "# get coordinate information\n",
    "\n",
    "ga_cols = []\n",
    "al_cols = []\n",
    "o_cols = []\n",
    "in_cols = []\n",
    "\n",
    "import warnings\n",
    "warnings.filterwarnings(\"ignore\")\n",
    "\n",
    "for i in range(6):\n",
    "    ga_cols.append(\"Ga_\"+str(i))\n",
    "\n",
    "for i in range(6):\n",
    "    al_cols.append(\"Al_\"+str(i))\n",
    "\n",
    "for i in range(6):\n",
    "    o_cols.append(\"O_\"+str(i))\n",
    "\n",
    "for i in range(6):\n",
    "    in_cols.append(\"In_\"+str(i))\n",
    "\n",
    "\n",
    "\n",
    "ga_df= pd.DataFrame(columns=ga_cols)\n",
    "al_df = pd.DataFrame(columns=al_cols)\n",
    "o_df = pd.DataFrame(columns= o_cols)\n",
    "in_df = pd.DataFrame(columns=in_cols)\n",
    "\n",
    "def get_xyz_data(filename):\n",
    "    pos_data = []\n",
    "    lat_data = []\n",
    "    with open(filename) as f:\n",
    "        for line in f.readlines():\n",
    "            x = line.split()\n",
    "            if x[0] == 'atom':\n",
    "                pos_data.append([np.array(x[1:4], dtype=np.float),x[4]])\n",
    "            elif x[0] == 'lattice_vector':\n",
    "                lat_data.append(np.array(x[1:4], dtype=np.float))\n",
    "    return pos_data, np.array(lat_data)\n",
    "\n",
    "\n",
    "\n",
    "for i in train.id.values:\n",
    "    fn = \"./data/train/{}/geometry.xyz\".format(i)\n",
    "    train_xyz, train_lat = get_xyz_data(fn)\n",
    "    \n",
    "    ga_list = []\n",
    "    al_list = []\n",
    "    o_list = []\n",
    "    in_list = []\n",
    "    \n",
    "    for li in train_xyz:\n",
    "        try:\n",
    "            if li[1] == \"Ga\":\n",
    "                ga_list.append(li[0])\n",
    "        except:\n",
    "            pass\n",
    "        try:\n",
    "            if li[1] == \"Al\":\n",
    "                al_list.append(li[0])\n",
    "        except:\n",
    "            pass\n",
    "        try:\n",
    "            if li[1] == \"In\":\n",
    "                in_list.append(li[0])\n",
    "        except:\n",
    "            pass\n",
    "        try:\n",
    "            if li[1] == \"O\":\n",
    "                o_list.append(li[0])\n",
    "        except:\n",
    "            pass\n",
    "    try:\n",
    "        model = PCA(n_components=2)\n",
    "        ga_list = np.array(ga_list)\n",
    "        temp_ga = model.fit_transform(ga_list.transpose())\n",
    "        temp_ga = [item for sublist in temp_ga for item in sublist]\n",
    "       \n",
    "    except:\n",
    "        temp_ga = [0,0,0,0,0,0]\n",
    "#         print i\n",
    "    try:\n",
    "        model = PCA(n_components=2)\n",
    "        al_list = np.array(al_list)\n",
    "        temp_al = model.fit_transform(al_list.transpose())\n",
    "        temp_al = [item for sublist in temp_al for item in sublist]\n",
    "#         print i\n",
    "    except:\n",
    "        temp_al = [0,0,0,0,0,0]\n",
    "#         print i\n",
    "    try:\n",
    "        model = PCA(n_components=2)\n",
    "        o_list = np.array(o_list)\n",
    "        temp_o = model.fit_transform(o_list.transpose())\n",
    "        temp_o = [item for sublist in temp_o for item in sublist]\n",
    "#         print i\n",
    "    except:\n",
    "        temp_o = [0,0,0,0,0,0]\n",
    "#         print i\n",
    "    \n",
    "    try:\n",
    "        model = PCA(n_components=2)\n",
    "        in_list = np.array(in_list)\n",
    "        temp_in = model.fit_transform(in_list.transpose())\n",
    "        temp_in = [item for sublist in temp_in for item in sublist]\n",
    "#         print i\n",
    "    except:\n",
    "        temp_in = [0,0,0,0,0,0]\n",
    "#         print i\n",
    "\n",
    "    temp_ga = pd.DataFrame(temp_ga).transpose()\n",
    "    temp_ga.columns = ga_cols\n",
    "    temp_ga.index = np.array([i])\n",
    "\n",
    "    temp_al = pd.DataFrame(temp_al).transpose()\n",
    "    temp_al.columns = al_cols\n",
    "    temp_al.index = np.array([i])\n",
    "\n",
    "    temp_o = pd.DataFrame(temp_o).transpose()\n",
    "    temp_o.columns = o_cols\n",
    "    temp_o.index = np.array([i])\n",
    "    \n",
    "    temp_in = pd.DataFrame(temp_in).transpose()\n",
    "    temp_in.columns = in_cols\n",
    "    temp_in.index = np.array([i])\n",
    "    \n",
    "    \n",
    "\n",
    "    ga_df = pd.concat([ga_df,temp_ga])\n",
    "    al_df = pd.concat([al_df,temp_al])\n",
    "    o_df = pd.concat([o_df,temp_o])    \n",
    "    in_df = pd.concat([in_df,temp_in])\n",
    "    \n",
    "ga_df[\"id\"] = ga_df.index\n",
    "al_df[\"id\"] = al_df.index\n",
    "o_df[\"id\"] = o_df.index\n",
    "in_df[\"id\"] = in_df.index\n",
    "\n",
    "train = pd.merge(train,ga_df,on = [\"id\"],how = \"left\")\n",
    "train = pd.merge(train,al_df,on = [\"id\"],how = \"left\")\n",
    "train = pd.merge(train,o_df,on = [\"id\"],how = \"left\")\n",
    "train = pd.merge(train,in_df,on = [\"id\"],how = \"left\")\n",
    "\n",
    "ga_df= pd.DataFrame(columns=ga_cols)\n",
    "al_df = pd.DataFrame(columns=al_cols)\n",
    "o_df = pd.DataFrame(columns= o_cols)\n",
    "in_df = pd.DataFrame(columns=in_cols)\n",
    "\n",
    "for i in test.id.values:\n",
    "    fn = \"./data/test/{}/geometry.xyz\".format(i)\n",
    "    test_xyz, test_lat = get_xyz_data(fn)\n",
    "    \n",
    "    ga_list = []\n",
    "    al_list = []\n",
    "    o_list = []\n",
    "    in_list = []\n",
    "    \n",
    "    for li in test_xyz:\n",
    "        try:\n",
    "            if li[1] == \"Ga\":\n",
    "                ga_list.append(li[0])\n",
    "        except:\n",
    "            pass\n",
    "        try:\n",
    "            if li[1] == \"Al\":\n",
    "                al_list.append(li[0])\n",
    "        except:\n",
    "            pass\n",
    "        try:\n",
    "            if li[1] == \"In\":\n",
    "                in_list.append(li[0])\n",
    "        except:\n",
    "            pass\n",
    "        try:\n",
    "            if li[1] == \"O\":\n",
    "                o_list.append(li[0])\n",
    "        except:\n",
    "            pass\n",
    "    \n",
    "#     ga_list = [item for sublist in ga_list for item in sublist]\n",
    "#     al_list = [item for sublist in al_list for item in sublist]\n",
    "#     o_list = [item for sublist in o_list for item in sublist]\n",
    "   \n",
    "    \n",
    "    try:\n",
    "        model = PCA(n_components=2)\n",
    "        ga_list = np.array(ga_list)\n",
    "        temp_ga = model.fit_transform(ga_list.transpose())\n",
    "        temp_ga = [item for sublist in temp_ga for item in sublist]\n",
    "       \n",
    "    except:\n",
    "        temp_ga = [0,0,0,0,0,0]\n",
    "#         print i\n",
    "    try:\n",
    "        model = PCA(n_components=2)\n",
    "        al_list = np.array(al_list)\n",
    "        temp_al = model.fit_transform(al_list.transpose())\n",
    "        temp_al = [item for sublist in temp_al for item in sublist]\n",
    "#         print i\n",
    "    except:\n",
    "        temp_al = [0,0,0,0,0,0]\n",
    "#         print i\n",
    "    try:\n",
    "        model = PCA(n_components=2)\n",
    "        o_list = np.array(o_list)\n",
    "        temp_o = model.fit_transform(o_list.transpose())\n",
    "        temp_o = [item for sublist in temp_o for item in sublist]\n",
    "#         print i\n",
    "    except:\n",
    "        temp_o = [0,0,0,0,0,0]\n",
    "#         print i\n",
    "    \n",
    "    try:\n",
    "        model = PCA(n_components=2)\n",
    "        in_list = np.array(in_list)\n",
    "        temp_in = model.fit_transform(in_list.transpose())\n",
    "        temp_in = [item for sublist in temp_in for item in sublist]\n",
    "#         print i\n",
    "    except:\n",
    "        temp_in = [0,0,0,0,0,0]\n",
    "#         print i\n",
    "\n",
    "    temp_ga = pd.DataFrame(temp_ga).transpose()\n",
    "    temp_ga.columns = ga_cols\n",
    "    temp_ga.index = np.array([i])\n",
    "\n",
    "    temp_al = pd.DataFrame(temp_al).transpose()\n",
    "    temp_al.columns = al_cols\n",
    "    temp_al.index = np.array([i])\n",
    "\n",
    "    temp_o = pd.DataFrame(temp_o).transpose()\n",
    "    temp_o.columns = o_cols\n",
    "    temp_o.index = np.array([i])\n",
    "    \n",
    "    temp_in = pd.DataFrame(temp_in).transpose()\n",
    "    temp_in.columns = in_cols\n",
    "    temp_in.index = np.array([i])\n",
    "    \n",
    "    \n",
    "\n",
    "    ga_df = pd.concat([ga_df,temp_ga])\n",
    "    al_df = pd.concat([al_df,temp_al])\n",
    "    o_df = pd.concat([o_df,temp_o])    \n",
    "    in_df = pd.concat([in_df,temp_in])\n",
    "    \n",
    "\n",
    "ga_df[\"id\"] = ga_df.index\n",
    "al_df[\"id\"] = al_df.index\n",
    "o_df[\"id\"] = o_df.index\n",
    "in_df[\"id\"] = in_df.index\n",
    "\n",
    "test = pd.merge(test,ga_df,on = [\"id\"],how = \"left\")\n",
    "test = pd.merge(test,al_df,on = [\"id\"],how = \"left\")\n",
    "test = pd.merge(test,o_df,on = [\"id\"],how = \"left\")\n",
    "test = pd.merge(test,in_df,on = [\"id\"],how = \"left\")"
   ]
  },
  {
   "cell_type": "code",
   "execution_count": 6,
   "metadata": {
    "collapsed": true
   },
   "outputs": [],
   "source": [
    "train.rename(columns={\n",
    "    'spacegroup' : 'sg',\n",
    "    'number_of_total_atoms' : 'Natoms',\n",
    "    'percent_atom_al' : 'x_Al',\n",
    "    'percent_atom_ga' : 'x_Ga',\n",
    "    'percent_atom_in' : 'x_In',\n",
    "    'lattice_vector_1_ang' : 'a',\n",
    "    'lattice_vector_2_ang' : 'b',\n",
    "    'lattice_vector_3_ang' : 'c',\n",
    "    'lattice_angle_alpha_degree' : 'alpha',\n",
    "    'lattice_angle_beta_degree' : 'beta',\n",
    "    'lattice_angle_gamma_degree' : 'gamma',\n",
    "    'formation_energy_ev_natom' : 'E',\n",
    "    'bandgap_energy_ev' : 'Eg'}, inplace=True)\n",
    "\n",
    "test.rename(columns={\n",
    "    'spacegroup' : 'sg',\n",
    "    'number_of_total_atoms' : 'Natoms',\n",
    "    'percent_atom_al' : 'x_Al',\n",
    "    'percent_atom_ga' : 'x_Ga',\n",
    "    'percent_atom_in' : 'x_In',\n",
    "    'lattice_vector_1_ang' : 'a',\n",
    "    'lattice_vector_2_ang' : 'b',\n",
    "    'lattice_vector_3_ang' : 'c',\n",
    "    'lattice_angle_alpha_degree' : 'alpha',\n",
    "    'lattice_angle_beta_degree' : 'beta',\n",
    "    'lattice_angle_gamma_degree' : 'gamma',\n",
    "}, inplace=True)\n",
    "\n",
    "\n",
    "target = [\n",
    "    'E',\n",
    "    'Eg']\n",
    "\n",
    "all_data = pd.concat((train, test))"
   ]
  },
  {
   "cell_type": "markdown",
   "metadata": {},
   "source": [
    "## Retrieve list of elemental properties"
   ]
  },
  {
   "cell_type": "code",
   "execution_count": 7,
   "metadata": {},
   "outputs": [
    {
     "name": "stdout",
     "output_type": "stream",
     "text": [
      "['EA', 'HOMO', 'IP', 'LUMO', 'electronegativity', 'mass', 'rd_max', 'rp_max', 'rs_max']\n"
     ]
    }
   ],
   "source": [
    "def get_prop_list(path_to_element_data):\n",
    "    \"\"\"\n",
    "    Args:\n",
    "        path_to_element_data (str) - path to folder of elemental property files\n",
    "    Returns:\n",
    "        list of elemental properties (str) which have corresponding .csv files\n",
    "    \"\"\"\n",
    "    return [f[:-4] for f in os.listdir(path_to_element_data)]\n",
    "\n",
    "# folder which contains element data\n",
    "path_to_element_data = './data/elemental-properties/'\n",
    "# get list of properties which have data files\n",
    "properties = get_prop_list(path_to_element_data)\n",
    "print(sorted(properties))"
   ]
  },
  {
   "cell_type": "code",
   "execution_count": 8,
   "metadata": {},
   "outputs": [
    {
     "name": "stdout",
     "output_type": "stream",
     "text": [
      "The mass of aluminum is 26.98 amu\n"
     ]
    }
   ],
   "source": [
    "def get_prop(prop, path_to_element_data):\n",
    "    \"\"\"\n",
    "    Args:\n",
    "        prop (str) - name of elemental property\n",
    "        path_to_element_data (str) - path to folder of elemental property files\n",
    "    Returns:\n",
    "        dictionary of {element (str) : property value (float)}\n",
    "    \"\"\"\n",
    "    fin = os.path.join(path_to_element_data, prop+'.csv')\n",
    "    with open(fin) as f:\n",
    "        all_els = {line.split(',')[0] : float(line.split(',')[1][:-1]) for line in f}\n",
    "        my_els = ['Al', 'Ga', 'In']\n",
    "        return {el : all_els[el] for el in all_els if el in my_els}\n",
    "\n",
    "# make nested dictionary which maps {property (str) : {element (str) : property value (float)}}\n",
    "prop_dict = {prop : get_prop(prop, path_to_element_data) for prop in properties}\n",
    "print('The mass of aluminum is %.2f amu' % prop_dict['mass']['Al'])"
   ]
  },
  {
   "cell_type": "code",
   "execution_count": 9,
   "metadata": {
    "collapsed": true
   },
   "outputs": [],
   "source": [
    "# average each property using the composition\n",
    "\n",
    "def avg_prop(x_Al, x_Ga, x_In, prop):\n",
    "    \"\"\"\n",
    "    Args:\n",
    "        x_Al (float or DataFrame series) - concentration of Al\n",
    "        x_Ga (float or DataFrame series) - concentration of Ga\n",
    "        x_In (float or DataFrame series) - concentration of In\n",
    "        prop (str) - name of elemental property\n",
    "    Returns:\n",
    "        average property for the compound (float or DataFrame series), \n",
    "        weighted by the elemental concentrations\n",
    "    \"\"\"\n",
    "    els = ['Al', 'Ga', 'In']\n",
    "    concentration_dict = dict(zip(els, [x_Al, x_Ga, x_In]))\n",
    "    return np.sum(prop_dict[prop][el] * concentration_dict[el] for el in els)\n",
    "\n",
    "# add averaged properties to DataFrame\n",
    "for prop in properties:\n",
    "    all_data['_'.join(['avg', prop])] = avg_prop(all_data['x_Al'], \n",
    "                                                 all_data['x_Ga'],\n",
    "                                                 all_data['x_In'],\n",
    "                                                 prop)"
   ]
  },
  {
   "cell_type": "code",
   "execution_count": 10,
   "metadata": {
    "collapsed": true
   },
   "outputs": [],
   "source": [
    "# calculate the volume of the structure\n",
    "\n",
    "def get_vol(a, b, c, alpha, beta, gamma):\n",
    "    \"\"\"\n",
    "    Args:\n",
    "        a (float) - lattice vector 1\n",
    "        b (float) - lattice vector 2\n",
    "        c (float) - lattice vector 3\n",
    "        alpha (float) - lattice angle 1 [radians]\n",
    "        beta (float) - lattice angle 2 [radians]\n",
    "        gamma (float) - lattice angle 3 [radians]\n",
    "    Returns:\n",
    "        volume (float) of the parallelepiped unit cell\n",
    "    \"\"\"\n",
    "    return a*b*c*np.sqrt(1 + 2*np.cos(alpha)*np.cos(beta)*np.cos(gamma)\n",
    "                           - np.cos(alpha)**2\n",
    "                           - np.cos(beta)**2\n",
    "                           - np.cos(gamma)**2)\n",
    "\n",
    "# convert lattice angles from degrees to radians for volume calculation\n",
    "lattice_angles = ['alpha', 'beta', 'gamma']\n",
    "for lang in lattice_angles:\n",
    "    all_data['_'.join([lang, 'r'])] = np.pi * all_data[lang] / 180\n",
    "    \n",
    "# compute the cell volumes \n",
    "all_data['vol'] = get_vol(all_data['a'], all_data['b'], all_data['c'],\n",
    "                          all_data['alpha_r'], all_data['beta_r'], all_data['gamma_r'])\n",
    "\n",
    "# calculate the atomic density\n",
    "all_data['atomic_density'] = all_data['Natoms'] / all_data['vol']  "
   ]
  },
  {
   "cell_type": "code",
   "execution_count": 11,
   "metadata": {},
   "outputs": [
    {
     "name": "stdout",
     "output_type": "stream",
     "text": [
      "Number of Null Values: 0\n"
     ]
    }
   ],
   "source": [
    "# make new features using averages of the following columns by sg group\n",
    "avg_cols = ['x_Al','x_Ga','x_In','a','b','c','avg_rs_max','avg_electronegativity',\n",
    "            'avg_rp_max','avg_LUMO','avg_IP','avg_rd_max','avg_EA','avg_HOMO',\n",
    "            'avg_mass','vol','atomic_density']\n",
    "\n",
    "\n",
    "for col in avg_cols:\n",
    "    new_col = col + \"_avg\"\n",
    "    all_data[new_col] = np.nan\n",
    "    for group in all_data['sg'].unique():\n",
    "        all_data.loc[(all_data['sg'] == group), new_col] = all_data[(all_data['sg'] == group)][col].mean()\n",
    "\n",
    "print('Number of Null Values: {}'.format(pd.isnull(all_data[avg_cols]).sum().sum()))\n",
    "\n"
   ]
  },
  {
   "cell_type": "code",
   "execution_count": 12,
   "metadata": {
    "collapsed": true
   },
   "outputs": [],
   "source": [
    "# Handle the values with categorical variables using one hot encoding\n",
    "# This will create a much more sparse set of variables\n",
    "\n",
    "all_data[['sg', 'Natoms']] = all_data[['sg', 'Natoms']].astype(str)\n",
    "all_data = pd.get_dummies(all_data)"
   ]
  },
  {
   "cell_type": "code",
   "execution_count": 13,
   "metadata": {},
   "outputs": [
    {
     "data": {
      "image/png": "[encoded data removed]",
      "text/plain": [
       "<Figure size 432x288 with 1 Axes>"
      ]
     },
     "metadata": {},
     "output_type": "display_data"
    },
    {
     "data": {
      "image/png": "[encoded data removed]",
      "text/plain": [
       "<Figure size 432x288 with 1 Axes>"
      ]
     },
     "metadata": {},
     "output_type": "display_data"
    }
   ],
   "source": [
    "##Correcting Target Variables\n",
    "\n",
    "#  both of the target variables are skewed a bit\n",
    "\n",
    "for col in ['E', 'Eg']:\n",
    "    sns.distplot((train[col]))\n",
    "    plt.title(col)\n",
    "    plt.show()"
   ]
  },
  {
   "cell_type": "code",
   "execution_count": 14,
   "metadata": {},
   "outputs": [
    {
     "data": {
      "text/plain": [
       "Index([u'E', u'Eg', u'a', u'alpha', u'b', u'beta', u'c', u'gamma', u'id',\n",
       "       u'x_Al', u'x_Ga', u'x_In', u'avg_rs_max', u'avg_electronegativity',\n",
       "       u'avg_rp_max', u'avg_LUMO', u'avg_IP', u'avg_rd_max', u'avg_EA',\n",
       "       u'avg_HOMO', u'avg_mass', u'alpha_r', u'beta_r', u'gamma_r', u'vol',\n",
       "       u'atomic_density', u'x_Al_avg', u'x_Ga_avg', u'x_In_avg', u'a_avg',\n",
       "       u'b_avg', u'c_avg', u'avg_rs_max_avg', u'avg_electronegativity_avg',\n",
       "       u'avg_rp_max_avg', u'avg_LUMO_avg', u'avg_IP_avg', u'avg_rd_max_avg',\n",
       "       u'avg_EA_avg', u'avg_HOMO_avg', u'avg_mass_avg', u'vol_avg',\n",
       "       u'atomic_density_avg', u'Al_0_0', u'Al_1_0', u'Al_2_0', u'Al_3_0',\n",
       "       u'Al_4_0', u'Al_5_0', u'Ga_0_0', u'Ga_1_0', u'Ga_2_0', u'Ga_3_0',\n",
       "       u'Ga_4_0', u'Ga_5_0', u'In_0_0', u'In_1_0', u'In_2_0', u'In_3_0',\n",
       "       u'In_4_0', u'In_5_0', u'Natoms_10.0', u'Natoms_20.0', u'Natoms_30.0',\n",
       "       u'Natoms_40.0', u'Natoms_60.0', u'Natoms_80.0', u'O_0_0', u'O_1_0',\n",
       "       u'O_2_0', u'O_3_0', u'O_4_0', u'O_5_0', u'sg_12', u'sg_167', u'sg_194',\n",
       "       u'sg_206', u'sg_227', u'sg_33'],\n",
       "      dtype='object')"
      ]
     },
     "execution_count": 14,
     "metadata": {},
     "output_type": "execute_result"
    }
   ],
   "source": [
    "## See data\n",
    "\n",
    "all_data.columns"
   ]
  },
  {
   "cell_type": "code",
   "execution_count": 16,
   "metadata": {},
   "outputs": [
    {
     "data": {
      "text/plain": [
       "((2400, 45), (2400,), (2400,), (2400, 2), (600, 45))"
      ]
     },
     "execution_count": 16,
     "metadata": {},
     "output_type": "execute_result"
    }
   ],
   "source": [
    "from sklearn.preprocessing import StandardScaler\n",
    "from sklearn.decomposition import PCA\n",
    "\n",
    "# features to use\n",
    "features = ['x_Al', 'x_Ga', 'x_In', 'a', 'b', 'c', 'alpha', 'beta',\n",
    "            'gamma', 'vol', 'atomic_density', 'x_Al_avg','x_Ga_avg', 'x_In_avg', 'a_avg',\n",
    "            'b_avg', 'c_avg', 'vol_avg', 'atomic_density_avg', 'pca_abc', 'pca_AlGaInDensity',\n",
    "            'O_0_0','O_1_0', 'O_2_0', 'O_3_0', 'O_4_0', 'O_5_0', 'Al_0_0', 'Al_1_0', 'Al_2_0', 'Al_3_0', 'Al_4_0', 'Al_5_0', 'Ga_0_0',\n",
    "            'Ga_1_0', 'Ga_2_0', 'Ga_3_0', 'Ga_4_0', 'Ga_5_0', 'In_0_0', 'In_1_0',\n",
    "            'In_2_0', 'In_3_0', 'In_4_0', 'In_5_0',]\n",
    "\n",
    "# two different vectors for pca\n",
    "vector1 = all_data[['a', 'b', 'c']].values\n",
    "vector2 = all_data[['x_Al', 'x_Ga', 'x_In', 'atomic_density_avg']].values\n",
    "\n",
    "# use pca to add new features\n",
    "pca = PCA()\n",
    "pca.fit(vector1)\n",
    "all_data['pca_abc'] = pca.transform(vector1)[:,0]\n",
    "\n",
    "pca = PCA()\n",
    "pca.fit(vector2)\n",
    "all_data['pca_AlGaInDensity'] = pca.transform(vector2)[:,0]\n",
    "\n",
    "# scaling the data. Linear models tend to like more normally distributed\n",
    "# I tried training on non-scaled, with slightly worse results\n",
    "scale = StandardScaler()\n",
    "scaled = scale.fit(all_data[features]).transform(all_data[features])\n",
    "\n",
    "X_scale = scaled[:train.shape[0]]\n",
    "X_scaled_test = scaled[train.shape[0]:]\n",
    "\n",
    "X_tr = all_data[:train.shape[0]][features].values\n",
    "X_te = all_data[train.shape[0]:][features].values\n",
    "\n",
    "y1 = np.log1p(train['E'])\n",
    "y2 = np.log1p(train['Eg'])\n",
    "\n",
    "y12 = np.column_stack((y1, y2))\n",
    "\n",
    "X_tr.shape, y1.shape, y2.shape, y12.shape, X_scaled_test.shape"
   ]
  },
  {
   "cell_type": "code",
   "execution_count": 15,
   "metadata": {
    "collapsed": true
   },
   "outputs": [],
   "source": [
    "# performance metric\n",
    "def rmsle(h, y): \n",
    "    \"\"\"\n",
    "    Compute the Root Mean Squared Log Error for hypthesis h and targets y\n",
    "\n",
    "    Args:\n",
    "        h - numpy array containing predictions with shape (n_samples, n_targets)\n",
    "        y - numpy array containing targets with shape (n_samples, n_targets)\n",
    "    \"\"\"\n",
    "    \n",
    "#     h, y = np.expm1(h), np.expm1(y)\n",
    "    \n",
    "    return np.sqrt(np.square(np.log(h + 1) - np.log(y + 1)).mean())"
   ]
  },
  {
   "cell_type": "markdown",
   "metadata": {},
   "source": [
    "## Gradient Boosting"
   ]
  },
  {
   "cell_type": "code",
   "execution_count": 17,
   "metadata": {
    "collapsed": true
   },
   "outputs": [],
   "source": [
    "from sklearn.model_selection import KFold\n",
    "from sklearn.ensemble import GradientBoostingRegressor"
   ]
  },
  {
   "cell_type": "code",
   "execution_count": 18,
   "metadata": {
    "collapsed": true
   },
   "outputs": [],
   "source": [
    "# run different model for different Target Variables\n",
    "\n",
    "grad_1 = GradientBoostingRegressor(\n",
    "                loss='ls',\n",
    "                learning_rate = 0.0035,\n",
    "                max_depth=7,\n",
    "                n_estimators=1120,\n",
    "                max_features=7,\n",
    "                min_samples_leaf=43,\n",
    "                min_samples_split=14,\n",
    "                min_weight_fraction_leaf=0.01556)\n",
    "\n",
    "grad_2 = GradientBoostingRegressor(\n",
    "                loss='ls',\n",
    "                learning_rate = 0.0035,\n",
    "                max_depth=6,\n",
    "                n_estimators=3275,\n",
    "                max_features=2,\n",
    "                min_samples_leaf=2,\n",
    "                min_samples_split=2,\n",
    "                min_weight_fraction_leaf=0.08012)\n",
    "\n",
    "def assess_grad(X, y_list, model_list):\n",
    "    \"\"\" Used to access model performance. Returns the mean rmsle score of cross validated data\n",
    "    \"\"\"\n",
    "    final = []\n",
    "    best_iter = [[], []]\n",
    "    for idx, y in enumerate(y_list):\n",
    "        kfold = KFold(n_splits=10, shuffle=True)\n",
    "        out = []\n",
    "        for train_index, test_index in kfold.split(X):\n",
    "            X_train, X_test = X[train_index], X[test_index]\n",
    "            y_train, y_test = y[train_index], y[test_index]\n",
    "            model = model_list[idx]\n",
    "            model.fit(X_train, y_train)\n",
    "            h =  model.predict(X_test)\n",
    "            e = rmsle(np.expm1(h), np.expm1(y_test))\n",
    "            print(e)\n",
    "            out.append(e)\n",
    "        final.append(np.array(out).mean())\n",
    "                      \n",
    "    return(np.array(final).mean(), np.array(final).std())"
   ]
  },
  {
   "cell_type": "code",
   "execution_count": 19,
   "metadata": {},
   "outputs": [
    {
     "name": "stdout",
     "output_type": "stream",
     "text": [
      "0.029005945806550977\n",
      "0.03069735084928785\n",
      "0.02975926791544472\n",
      "0.03572537732990539\n",
      "0.029012187060581226\n",
      "0.029352636074113585\n",
      "0.03603290932600535\n",
      "0.03223846324000183\n",
      "0.03199300758034223\n",
      "0.03995732788489073\n",
      "0.08111416745113355\n",
      "0.10141046733443633\n",
      "0.09357515607971809\n",
      "0.09594621809346336\n",
      "0.08247904492463455\n",
      "0.09249171661836451\n",
      "0.08787629106977207\n",
      "0.08448670730987279\n",
      "0.09755475553786168\n",
      "0.09258166398526715\n",
      "Model RMSLE: 0.0616645330736, std: 0.0292870857669\n"
     ]
    }
   ],
   "source": [
    "model = assess_grad(X_tr, [y1, y2], [grad_1, grad_2])\n",
    "print(\"Model RMSLE: {}, std: {}\".format(model[0], model[1]))"
   ]
  },
  {
   "cell_type": "markdown",
   "metadata": {},
   "source": [
    "# Qboost"
   ]
  },
  {
   "cell_type": "code",
   "execution_count": 49,
   "metadata": {
    "collapsed": true
   },
   "outputs": [],
   "source": [
    "# Fill in your API token:\n",
    "\n",
    "\n",
    "sapi_token = 'CDL8-df1de1d5d76560ee73a82ffca3833a1a444536d3'\n",
    "url = 'https://cloud.dwavesys.com/sapi'\n",
    "token = sapi_token\n",
    "solver_name = 'DW_2000Q_2'"
   ]
  },
  {
   "cell_type": "markdown",
   "metadata": {},
   "source": [
    "Now let us import the required packages."
   ]
  },
  {
   "cell_type": "code",
   "execution_count": 50,
   "metadata": {
    "collapsed": true
   },
   "outputs": [],
   "source": [
    "# import necessary packages\n",
    "from sklearn import preprocessing, metrics\n",
    "from sklearn.ensemble import AdaBoostClassifier, RandomForestClassifier\n",
    "from sklearn.datasets.mldata import fetch_mldata\n",
    "from sklearn.datasets import load_breast_cancer\n",
    "from dwave.system.samplers import DWaveSampler\n",
    "from dwave.system.composites import EmbeddingComposite\n",
    "\n",
    "from qboost import WeakClassifiers, QBoostClassifier, QboostPlus"
   ]
  },
  {
   "cell_type": "markdown",
   "metadata": {},
   "source": [
    "Next, let us define the `metric` and `train_model` functions:"
   ]
  },
  {
   "cell_type": "code",
   "execution_count": 51,
   "metadata": {
    "collapsed": true
   },
   "outputs": [],
   "source": [
    "# Define the functions required in this example\n",
    "\n",
    "#def metric(y, y_pred):\n",
    "#    \"\"\"\n",
    "#    :param y: true label\n",
    "#    :param y_pred: predicted label\n",
    "#    :return: metric score\n",
    "#    \"\"\"\n",
    "#\n",
    "#    return metrics.accuracy_score(y, y_pred)\n",
    "\n",
    "# performance metric\n",
    "def metric(h, y): \n",
    "    \"\"\"\n",
    "    Compute the Root Mean Squared Log Error for hypthesis h and targets y\n",
    "\n",
    "    Args:\n",
    "        h - numpy array containing predictions with shape (n_samples, n_targets)\n",
    "        y - numpy array containing targets with shape (n_samples, n_targets)\n",
    "    \"\"\"\n",
    "    \n",
    "#     h, y = np.expm1(h), np.expm1(y)\n",
    "    \n",
    "    return np.sqrt(np.square(np.log(h + 1) - np.log(y + 1)).mean())\n",
    "\n",
    "def train_model(X_train, y_train, X_test, y_test, lmd):\n",
    "    \"\"\"\n",
    "    :param X_train: training data\n",
    "    :param y_train: training label\n",
    "    :param X_test: testing data\n",
    "    :param y_test: testing label\n",
    "    :param lmd: lambda used in regularization\n",
    "    :return:\n",
    "    \"\"\"\n",
    "\n",
    "    # define parameters used in this function\n",
    "    NUM_READS = 1000\n",
    "    NUM_WEAK_CLASSIFIERS = 30\n",
    "    TREE_DEPTH = 2\n",
    "    DW_PARAMS = {'num_reads': NUM_READS,\n",
    "                 'auto_scale': True,\n",
    "                 'num_spin_reversal_transforms': 10,\n",
    "                 'postprocess': 'optimization',\n",
    "                 }\n",
    "\n",
    "    # define sampler\n",
    "    dwave_sampler = DWaveSampler(token=sapi_token, endpoint = url)\n",
    "    emb_sampler = EmbeddingComposite(dwave_sampler)\n",
    "\n",
    "    N_train = len(X_train)\n",
    "    N_test = len(X_test)\n",
    "    print(\"\\n======================================\")\n",
    "    print(\"Train size: %d, Test size: %d\" %(N_train, N_test))\n",
    "    print('Num weak classifiers:', NUM_WEAK_CLASSIFIERS)\n",
    "\n",
    "    # Preprocessing data\n",
    "    imputer = preprocessing.Imputer()\n",
    "    scaler = preprocessing.StandardScaler()\n",
    "    normalizer = preprocessing.Normalizer()\n",
    "\n",
    "    X_train = scaler.fit_transform(X_train)\n",
    "    X_train = normalizer.fit_transform(X_train)\n",
    "\n",
    "    X_test = scaler.fit_transform(X_test)\n",
    "    X_test = normalizer.fit_transform(X_test)\n",
    "\n",
    "    ## Adaboost\n",
    "    print('\\nAdaboost')\n",
    "    clf1 = AdaBoostClassifier(n_estimators=NUM_WEAK_CLASSIFIERS)\n",
    "    clf1.fit(X_train, y_train)\n",
    "    y_train1 = clf1.predict(X_train)\n",
    "    y_test1 = clf1.predict(X_test)\n",
    "#     print(clf1.estimator_weights_)\n",
    "    print('accu (train): %5.2f'%(metric(y_train, y_train1)))\n",
    "    print('accu (test): %5.2f'%(metric(y_test, y_test1)))\n",
    "\n",
    "    # Ensembles of Decision Tree\n",
    "    print('\\nDecision tree')\n",
    "    clf2 = WeakClassifiers(n_estimators=NUM_WEAK_CLASSIFIERS, max_depth=TREE_DEPTH)\n",
    "    clf2.fit(X_train, y_train)\n",
    "    y_train2 = clf2.predict(X_train)\n",
    "    y_test2 = clf2.predict(X_test)\n",
    "#     print(clf2.estimator_weights)\n",
    "    print('accu (train): %5.2f' % (metric(y_train, y_train2)))\n",
    "    print('accu (test): %5.2f' % (metric(y_test, y_test2)))\n",
    "    \n",
    "    # Random forest\n",
    "    print('\\nRandom Forest')\n",
    "    clf3 = RandomForestClassifier(max_depth=TREE_DEPTH, n_estimators=NUM_WEAK_CLASSIFIERS)\n",
    "    clf3.fit(X_train, y_train)\n",
    "    y_train3 = clf3.predict(X_train)\n",
    "    y_test3 = clf3.predict(X_test)\n",
    "    print('accu (train): %5.2f' % (metric(y_train, y_train3)))\n",
    "    print('accu (test): %5.2f' % (metric(y_test, y_test3)))\n",
    "\n",
    "    # Qboost\n",
    "    print('\\nQBoost')\n",
    "    clf4 = QBoostClassifier(n_estimators=NUM_WEAK_CLASSIFIERS, max_depth=TREE_DEPTH)\n",
    "    clf4.fit(X_train, y_train, emb_sampler, lmd=lmd, **DW_PARAMS)\n",
    "    y_train4 = clf4.predict(X_train)\n",
    "    y_test4 = clf4.predict(X_test)\n",
    "    print(clf4.estimator_weights)\n",
    "    print('accu (train): %5.2f' % (metric(y_train, y_train4)))\n",
    "    print('accu (test): %5.2f' % (metric(y_test, y_test4)))\n",
    "\n",
    "    # QboostPlus\n",
    "    print('\\nQBoostPlus')\n",
    "    clf5 = QboostPlus([clf1, clf2, clf3, clf4])\n",
    "    clf5.fit(X_train, y_train, emb_sampler, lmd=lmd, **DW_PARAMS)\n",
    "    y_train5 = clf5.predict(X_train)\n",
    "    y_test5 = clf5.predict(X_test)\n",
    "    print(clf5.estimator_weights)\n",
    "    print('accu (train): %5.2f' % (metric(y_train, y_train5)))\n",
    "    print('accu (test): %5.2f' % (metric(y_test, y_test5)))\n",
    "\n",
    "    print(\"===========================================================================\")\n",
    "    print(\"Method \\t Adaboost \\t DecisionTree \\t RandomForest \\t Qboost \\t Qboost+\")\n",
    "    print(\"Train\\t %5.2f \\t\\t %5.2f \\t\\t %5.2f \\t\\t %5.2f \\t\\t %5.2f\"% (metric(y_train, y_train1),\n",
    "                                                                         metric(y_train, y_train2),\n",
    "                                                                         metric(y_train, y_train3),\n",
    "                                                                         metric(y_train, y_train4),\n",
    "                                                                         metric(y_train, y_train5),\n",
    "                                                                        ))\n",
    "    print(\"Test\\t %5.2f \\t\\t %5.2f \\t\\t %5.2f \\t\\t %5.2f \\t\\t %5.2f\"% (metric(y_test, y_test1),\n",
    "                                                                       metric(y_test, y_test2),\n",
    "                                                                       metric(y_test, y_test3),\n",
    "                                                                       metric(y_test, y_test4),\n",
    "                                                                       metric(y_test, y_test5)))\n",
    "    print(\"===========================================================================\")\n",
    "    \n",
    "    return [clf1, clf2, clf3, clf4, clf5]"
   ]
  },
  {
   "cell_type": "markdown",
   "metadata": {},
   "source": [
    "## Experiments\n",
    "Now we're ready to run some experiments.\n",
    "First, import the required packages. "
   ]
  },
  {
   "cell_type": "code",
   "execution_count": 44,
   "metadata": {
    "collapsed": true
   },
   "outputs": [],
   "source": [
    "import numpy as np\n",
    "#import os\n",
    "import matplotlib.pyplot as plt"
   ]
  },
  {
   "cell_type": "markdown",
   "metadata": {},
   "source": [
    "\n",
    "### Experiment 1: Binary Classfication on the MNIST Dataset \n",
    "This example transforms the MNIST dataset (handwritten digits) into a binary classification problem. We assume all digits that are smaller than 5 are labelled as -1 and the rest digits are labelled as +1.\n",
    "\n",
    "First, let us load the MINIST dataset:"
   ]
  },
  {
   "cell_type": "code",
   "execution_count": 52,
   "metadata": {
    "scrolled": true
   },
   "outputs": [
    {
     "name": "stdout",
     "output_type": "stream",
     "text": [
      "2400\n",
      "(2400, 45)\n",
      "(2400,)\n",
      "1920 480\n",
      "Training data size: (1920, 45)\n",
      "Testing data size: (480, 45)\n"
     ]
    }
   ],
   "source": [
    "# \n",
    "print len(X_tr)\n",
    "#y_train = [y1,y2]\n",
    "y = y1\n",
    "\n",
    "print X_tr.shape\n",
    "print y1.shape\n",
    "\n",
    "idx = np.arange(len(X_tr))\n",
    "#print idx[1:5]\n",
    "np.random.shuffle(idx)  # shuffles index\n",
    "#print idx[1:5]\n",
    "\n",
    "X_train = X_tr[:int(len(idx)*.8)]\n",
    "y_train = y[:int(len(idx)*.8)]\n",
    "\n",
    "X_test = X_tr[int(len(idx)*.8):]\n",
    "y_test = y[int(len(idx)*.8):]\n",
    "\n",
    "print len(X_train), len(X_test)\n",
    "print(\"Training data size: (%d, %d)\" %(X_train.shape))\n",
    "print(\"Testing data size: (%d, %d)\" %(X_test.shape))"
   ]
  },
  {
   "cell_type": "markdown",
   "metadata": {},
   "source": [
    "Now train the model and compare the results of the selected classifiers."
   ]
  },
  {
   "cell_type": "code",
   "execution_count": 53,
   "metadata": {},
   "outputs": [
    {
     "name": "stdout",
     "output_type": "stream",
     "text": [
      "\n",
      "======================================\n",
      "Train size: 1920, Test size: 480\n",
      "('Num weak classifiers:', 30)\n",
      "\n",
      "Adaboost\n"
     ]
    },
    {
     "ename": "ValueError",
     "evalue": "Unknown label type: 'continuous'",
     "output_type": "error",
     "traceback": [
      "\u001b[0;31m---------------------------------------------------------------------------\u001b[0m",
      "\u001b[0;31mValueError\u001b[0m                                Traceback (most recent call last)",
      "\u001b[0;32m<ipython-input-53-b71c36502572>\u001b[0m in \u001b[0;36m<module>\u001b[0;34m()\u001b[0m\n\u001b[1;32m      1\u001b[0m \u001b[0;31m# start training the model\u001b[0m\u001b[0;34m\u001b[0m\u001b[0;34m\u001b[0m\u001b[0m\n\u001b[0;32m----> 2\u001b[0;31m \u001b[0mclfs\u001b[0m \u001b[0;34m=\u001b[0m \u001b[0mtrain_model\u001b[0m\u001b[0;34m(\u001b[0m\u001b[0mX_train\u001b[0m\u001b[0;34m,\u001b[0m \u001b[0my_train\u001b[0m\u001b[0;34m,\u001b[0m \u001b[0mX_test\u001b[0m\u001b[0;34m,\u001b[0m \u001b[0my_test\u001b[0m\u001b[0;34m,\u001b[0m \u001b[0;36m1.0\u001b[0m\u001b[0;34m)\u001b[0m\u001b[0;34m\u001b[0m\u001b[0m\n\u001b[0m",
      "\u001b[0;32m<ipython-input-51-ce9fd241ca6f>\u001b[0m in \u001b[0;36mtrain_model\u001b[0;34m(X_train, y_train, X_test, y_test, lmd)\u001b[0m\n\u001b[1;32m     68\u001b[0m     \u001b[0;32mprint\u001b[0m\u001b[0;34m(\u001b[0m\u001b[0;34m'\\nAdaboost'\u001b[0m\u001b[0;34m)\u001b[0m\u001b[0;34m\u001b[0m\u001b[0m\n\u001b[1;32m     69\u001b[0m     \u001b[0mclf1\u001b[0m \u001b[0;34m=\u001b[0m \u001b[0mAdaBoostClassifier\u001b[0m\u001b[0;34m(\u001b[0m\u001b[0mn_estimators\u001b[0m\u001b[0;34m=\u001b[0m\u001b[0mNUM_WEAK_CLASSIFIERS\u001b[0m\u001b[0;34m)\u001b[0m\u001b[0;34m\u001b[0m\u001b[0m\n\u001b[0;32m---> 70\u001b[0;31m     \u001b[0mclf1\u001b[0m\u001b[0;34m.\u001b[0m\u001b[0mfit\u001b[0m\u001b[0;34m(\u001b[0m\u001b[0mX_train\u001b[0m\u001b[0;34m,\u001b[0m \u001b[0my_train\u001b[0m\u001b[0;34m)\u001b[0m\u001b[0;34m\u001b[0m\u001b[0m\n\u001b[0m\u001b[1;32m     71\u001b[0m     \u001b[0my_train1\u001b[0m \u001b[0;34m=\u001b[0m \u001b[0mclf1\u001b[0m\u001b[0;34m.\u001b[0m\u001b[0mpredict\u001b[0m\u001b[0;34m(\u001b[0m\u001b[0mX_train\u001b[0m\u001b[0;34m)\u001b[0m\u001b[0;34m\u001b[0m\u001b[0m\n\u001b[1;32m     72\u001b[0m     \u001b[0my_test1\u001b[0m \u001b[0;34m=\u001b[0m \u001b[0mclf1\u001b[0m\u001b[0;34m.\u001b[0m\u001b[0mpredict\u001b[0m\u001b[0;34m(\u001b[0m\u001b[0mX_test\u001b[0m\u001b[0;34m)\u001b[0m\u001b[0;34m\u001b[0m\u001b[0m\n",
      "\u001b[0;32m/Users/Home/anaconda3/envs/env_py2.7/lib/python2.7/site-packages/sklearn/ensemble/weight_boosting.pyc\u001b[0m in \u001b[0;36mfit\u001b[0;34m(self, X, y, sample_weight)\u001b[0m\n\u001b[1;32m    411\u001b[0m \u001b[0;34m\u001b[0m\u001b[0m\n\u001b[1;32m    412\u001b[0m         \u001b[0;31m# Fit\u001b[0m\u001b[0;34m\u001b[0m\u001b[0;34m\u001b[0m\u001b[0m\n\u001b[0;32m--> 413\u001b[0;31m         \u001b[0;32mreturn\u001b[0m \u001b[0msuper\u001b[0m\u001b[0;34m(\u001b[0m\u001b[0mAdaBoostClassifier\u001b[0m\u001b[0;34m,\u001b[0m \u001b[0mself\u001b[0m\u001b[0;34m)\u001b[0m\u001b[0;34m.\u001b[0m\u001b[0mfit\u001b[0m\u001b[0;34m(\u001b[0m\u001b[0mX\u001b[0m\u001b[0;34m,\u001b[0m \u001b[0my\u001b[0m\u001b[0;34m,\u001b[0m \u001b[0msample_weight\u001b[0m\u001b[0;34m)\u001b[0m\u001b[0;34m\u001b[0m\u001b[0m\n\u001b[0m\u001b[1;32m    414\u001b[0m \u001b[0;34m\u001b[0m\u001b[0m\n\u001b[1;32m    415\u001b[0m     \u001b[0;32mdef\u001b[0m \u001b[0m_validate_estimator\u001b[0m\u001b[0;34m(\u001b[0m\u001b[0mself\u001b[0m\u001b[0;34m)\u001b[0m\u001b[0;34m:\u001b[0m\u001b[0;34m\u001b[0m\u001b[0m\n",
      "\u001b[0;32m/Users/Home/anaconda3/envs/env_py2.7/lib/python2.7/site-packages/sklearn/ensemble/weight_boosting.pyc\u001b[0m in \u001b[0;36mfit\u001b[0;34m(self, X, y, sample_weight)\u001b[0m\n\u001b[1;32m    143\u001b[0m                 \u001b[0mX\u001b[0m\u001b[0;34m,\u001b[0m \u001b[0my\u001b[0m\u001b[0;34m,\u001b[0m\u001b[0;34m\u001b[0m\u001b[0m\n\u001b[1;32m    144\u001b[0m                 \u001b[0msample_weight\u001b[0m\u001b[0;34m,\u001b[0m\u001b[0;34m\u001b[0m\u001b[0m\n\u001b[0;32m--> 145\u001b[0;31m                 random_state)\n\u001b[0m\u001b[1;32m    146\u001b[0m \u001b[0;34m\u001b[0m\u001b[0m\n\u001b[1;32m    147\u001b[0m             \u001b[0;31m# Early termination\u001b[0m\u001b[0;34m\u001b[0m\u001b[0;34m\u001b[0m\u001b[0m\n",
      "\u001b[0;32m/Users/Home/anaconda3/envs/env_py2.7/lib/python2.7/site-packages/sklearn/ensemble/weight_boosting.pyc\u001b[0m in \u001b[0;36m_boost\u001b[0;34m(self, iboost, X, y, sample_weight, random_state)\u001b[0m\n\u001b[1;32m    471\u001b[0m         \"\"\"\n\u001b[1;32m    472\u001b[0m         \u001b[0;32mif\u001b[0m \u001b[0mself\u001b[0m\u001b[0;34m.\u001b[0m\u001b[0malgorithm\u001b[0m \u001b[0;34m==\u001b[0m \u001b[0;34m'SAMME.R'\u001b[0m\u001b[0;34m:\u001b[0m\u001b[0;34m\u001b[0m\u001b[0m\n\u001b[0;32m--> 473\u001b[0;31m             \u001b[0;32mreturn\u001b[0m \u001b[0mself\u001b[0m\u001b[0;34m.\u001b[0m\u001b[0m_boost_real\u001b[0m\u001b[0;34m(\u001b[0m\u001b[0miboost\u001b[0m\u001b[0;34m,\u001b[0m \u001b[0mX\u001b[0m\u001b[0;34m,\u001b[0m \u001b[0my\u001b[0m\u001b[0;34m,\u001b[0m \u001b[0msample_weight\u001b[0m\u001b[0;34m,\u001b[0m \u001b[0mrandom_state\u001b[0m\u001b[0;34m)\u001b[0m\u001b[0;34m\u001b[0m\u001b[0m\n\u001b[0m\u001b[1;32m    474\u001b[0m \u001b[0;34m\u001b[0m\u001b[0m\n\u001b[1;32m    475\u001b[0m         \u001b[0;32melse\u001b[0m\u001b[0;34m:\u001b[0m  \u001b[0;31m# elif self.algorithm == \"SAMME\":\u001b[0m\u001b[0;34m\u001b[0m\u001b[0m\n",
      "\u001b[0;32m/Users/Home/anaconda3/envs/env_py2.7/lib/python2.7/site-packages/sklearn/ensemble/weight_boosting.pyc\u001b[0m in \u001b[0;36m_boost_real\u001b[0;34m(self, iboost, X, y, sample_weight, random_state)\u001b[0m\n\u001b[1;32m    481\u001b[0m         \u001b[0mestimator\u001b[0m \u001b[0;34m=\u001b[0m \u001b[0mself\u001b[0m\u001b[0;34m.\u001b[0m\u001b[0m_make_estimator\u001b[0m\u001b[0;34m(\u001b[0m\u001b[0mrandom_state\u001b[0m\u001b[0;34m=\u001b[0m\u001b[0mrandom_state\u001b[0m\u001b[0;34m)\u001b[0m\u001b[0;34m\u001b[0m\u001b[0m\n\u001b[1;32m    482\u001b[0m \u001b[0;34m\u001b[0m\u001b[0m\n\u001b[0;32m--> 483\u001b[0;31m         \u001b[0mestimator\u001b[0m\u001b[0;34m.\u001b[0m\u001b[0mfit\u001b[0m\u001b[0;34m(\u001b[0m\u001b[0mX\u001b[0m\u001b[0;34m,\u001b[0m \u001b[0my\u001b[0m\u001b[0;34m,\u001b[0m \u001b[0msample_weight\u001b[0m\u001b[0;34m=\u001b[0m\u001b[0msample_weight\u001b[0m\u001b[0;34m)\u001b[0m\u001b[0;34m\u001b[0m\u001b[0m\n\u001b[0m\u001b[1;32m    484\u001b[0m \u001b[0;34m\u001b[0m\u001b[0m\n\u001b[1;32m    485\u001b[0m         \u001b[0my_predict_proba\u001b[0m \u001b[0;34m=\u001b[0m \u001b[0mestimator\u001b[0m\u001b[0;34m.\u001b[0m\u001b[0mpredict_proba\u001b[0m\u001b[0;34m(\u001b[0m\u001b[0mX\u001b[0m\u001b[0;34m)\u001b[0m\u001b[0;34m\u001b[0m\u001b[0m\n",
      "\u001b[0;32m/Users/Home/anaconda3/envs/env_py2.7/lib/python2.7/site-packages/sklearn/tree/tree.pyc\u001b[0m in \u001b[0;36mfit\u001b[0;34m(self, X, y, sample_weight, check_input, X_idx_sorted)\u001b[0m\n\u001b[1;32m    788\u001b[0m             \u001b[0msample_weight\u001b[0m\u001b[0;34m=\u001b[0m\u001b[0msample_weight\u001b[0m\u001b[0;34m,\u001b[0m\u001b[0;34m\u001b[0m\u001b[0m\n\u001b[1;32m    789\u001b[0m             \u001b[0mcheck_input\u001b[0m\u001b[0;34m=\u001b[0m\u001b[0mcheck_input\u001b[0m\u001b[0;34m,\u001b[0m\u001b[0;34m\u001b[0m\u001b[0m\n\u001b[0;32m--> 790\u001b[0;31m             X_idx_sorted=X_idx_sorted)\n\u001b[0m\u001b[1;32m    791\u001b[0m         \u001b[0;32mreturn\u001b[0m \u001b[0mself\u001b[0m\u001b[0;34m\u001b[0m\u001b[0m\n\u001b[1;32m    792\u001b[0m \u001b[0;34m\u001b[0m\u001b[0m\n",
      "\u001b[0;32m/Users/Home/anaconda3/envs/env_py2.7/lib/python2.7/site-packages/sklearn/tree/tree.pyc\u001b[0m in \u001b[0;36mfit\u001b[0;34m(self, X, y, sample_weight, check_input, X_idx_sorted)\u001b[0m\n\u001b[1;32m    138\u001b[0m \u001b[0;34m\u001b[0m\u001b[0m\n\u001b[1;32m    139\u001b[0m         \u001b[0;32mif\u001b[0m \u001b[0mis_classification\u001b[0m\u001b[0;34m:\u001b[0m\u001b[0;34m\u001b[0m\u001b[0m\n\u001b[0;32m--> 140\u001b[0;31m             \u001b[0mcheck_classification_targets\u001b[0m\u001b[0;34m(\u001b[0m\u001b[0my\u001b[0m\u001b[0;34m)\u001b[0m\u001b[0;34m\u001b[0m\u001b[0m\n\u001b[0m\u001b[1;32m    141\u001b[0m             \u001b[0my\u001b[0m \u001b[0;34m=\u001b[0m \u001b[0mnp\u001b[0m\u001b[0;34m.\u001b[0m\u001b[0mcopy\u001b[0m\u001b[0;34m(\u001b[0m\u001b[0my\u001b[0m\u001b[0;34m)\u001b[0m\u001b[0;34m\u001b[0m\u001b[0m\n\u001b[1;32m    142\u001b[0m \u001b[0;34m\u001b[0m\u001b[0m\n",
      "\u001b[0;32m/Users/Home/anaconda3/envs/env_py2.7/lib/python2.7/site-packages/sklearn/utils/multiclass.pyc\u001b[0m in \u001b[0;36mcheck_classification_targets\u001b[0;34m(y)\u001b[0m\n\u001b[1;32m    170\u001b[0m     if y_type not in ['binary', 'multiclass', 'multiclass-multioutput',\n\u001b[1;32m    171\u001b[0m                       'multilabel-indicator', 'multilabel-sequences']:\n\u001b[0;32m--> 172\u001b[0;31m         \u001b[0;32mraise\u001b[0m \u001b[0mValueError\u001b[0m\u001b[0;34m(\u001b[0m\u001b[0;34m\"Unknown label type: %r\"\u001b[0m \u001b[0;34m%\u001b[0m \u001b[0my_type\u001b[0m\u001b[0;34m)\u001b[0m\u001b[0;34m\u001b[0m\u001b[0m\n\u001b[0m\u001b[1;32m    173\u001b[0m \u001b[0;34m\u001b[0m\u001b[0m\n\u001b[1;32m    174\u001b[0m \u001b[0;34m\u001b[0m\u001b[0m\n",
      "\u001b[0;31mValueError\u001b[0m: Unknown label type: 'continuous'"
     ]
    }
   ],
   "source": [
    "# start training the model\n",
    "clfs = train_model(X_train, y_train, X_test, y_test, 1.0)"
   ]
  },
  {
   "cell_type": "code",
   "execution_count": null,
   "metadata": {
    "collapsed": true
   },
   "outputs": [],
   "source": [
    "# TODO: for this cell, Graphviz executables must be on systems PATH \n",
    "# You can optionally visualize the decision trees by uncommenting the following code\n",
    "# import graphviz\n",
    "# from sklearn import tree\n",
    "# clf = clfs[0]\n",
    "# graph = graphviz.Source(tree.export_graphviz(clf.estimators_[0], out_file=None))\n",
    "# graph.render(None, view=True)"
   ]
  },
  {
   "cell_type": "markdown",
   "metadata": {},
   "source": [
    "### Experiment 2: Wisconsin Breast Cancer\n",
    "\n",
    "This example classifies tumors in scikit-learn's Wisconsis breast cancer dataset as either malignant or benign (binary classification).\n",
    "\n",
    "First, let us load the dataset."
   ]
  },
  {
   "cell_type": "code",
   "execution_count": null,
   "metadata": {
    "collapsed": true
   },
   "outputs": [],
   "source": [
    "wisc = load_breast_cancer()\n",
    "\n",
    "idx = np.arange(len(wisc.target))\n",
    "np.random.shuffle(idx)\n",
    "\n",
    "# train on a random 2/3 and test on the remaining 1/3\n",
    "idx_train = idx[:2*len(idx)//3]\n",
    "idx_test = idx[2*len(idx)//3:]\n",
    "\n",
    "X_train = wisc.data[idx_train]\n",
    "X_test = wisc.data[idx_test]\n",
    "\n",
    "y_train = 2 * wisc.target[idx_train] - 1  # binary -> spin\n",
    "y_test = 2 * wisc.target[idx_test] - 1"
   ]
  },
  {
   "cell_type": "code",
   "execution_count": 34,
   "metadata": {},
   "outputs": [
    {
     "data": {
      "text/plain": [
       "array([25372, 17422, 39047, ..., 33089, 53898, 43637])"
      ]
     },
     "execution_count": 34,
     "metadata": {},
     "output_type": "execute_result"
    }
   ],
   "source": [
    "X_train.shape\n",
    "idx_01\n"
   ]
  },
  {
   "cell_type": "markdown",
   "metadata": {},
   "source": [
    "Now train the model and compare the results of the selected classifiers."
   ]
  },
  {
   "cell_type": "code",
   "execution_count": 32,
   "metadata": {},
   "outputs": [
    {
     "name": "stdout",
     "output_type": "stream",
     "text": [
      "\n",
      "======================================\n",
      "Train size: 379, Test size: 190\n",
      "('Num weak classifiers:', 30)\n",
      "\n",
      "Adaboost\n",
      "accu (train):  1.00\n",
      "accu (test):  0.97\n",
      "\n",
      "Decision tree\n",
      "accu (train):  1.00\n",
      "accu (test):  0.97\n",
      "\n",
      "Random Forest\n",
      "accu (train):  0.96\n",
      "accu (test):  0.95\n",
      "\n",
      "QBoost\n",
      "[1 1 1 1 1 1 1 1 1 1 1 1 1 1 0 1 1 1 1 1 1 1 1 1 1 1 1 1 1 1]\n",
      "accu (train):  1.00\n",
      "accu (test):  0.98\n",
      "\n",
      "QBoostPlus\n",
      "[1 1 1 1]\n",
      "accu (train):  1.00\n",
      "accu (test):  0.98\n",
      "===========================================================================\n",
      "Method \t Adaboost \t DecisionTree \t RandomForest \t Qboost \t Qboost+\n",
      "Train\t  1.00 \t\t  1.00 \t\t  0.96 \t\t  1.00 \t\t  1.00\n",
      "Test\t  0.97 \t\t  0.97 \t\t  0.95 \t\t  0.98 \t\t  0.98\n",
      "===========================================================================\n"
     ]
    }
   ],
   "source": [
    "# train the model\n",
    "clfs = train_model(X_train, y_train, X_test, y_test, 1.0)"
   ]
  }
 ],
 "metadata": {
  "kernelspec": {
   "display_name": "Python 2",
   "language": "python",
   "name": "python2"
  },
  "language_info": {
   "codemirror_mode": {
    "name": "ipython",
    "version": 2
   },
   "file_extension": ".py",
   "mimetype": "text/x-python",
   "name": "python",
   "nbconvert_exporter": "python",
   "pygments_lexer": "ipython2",
   "version": "2.7.14"
  },
  "toc": {
   "base_numbering": 1,
   "nav_menu": {},
   "number_sections": true,
   "sideBar": true,
   "skip_h1_title": false,
   "title_cell": "Table of Contents",
   "title_sidebar": "Contents",
   "toc_cell": false,
   "toc_position": {},
   "toc_section_display": true,
   "toc_window_display": false
  }
 },
 "nbformat": 4,
 "nbformat_minor": 2
}
